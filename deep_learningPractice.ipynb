{
  "nbformat": 4,
  "nbformat_minor": 0,
  "metadata": {
    "colab": {
      "name": "deep_learningPractice.ipynb",
      "version": "0.3.2",
      "provenance": [],
      "collapsed_sections": [],
      "include_colab_link": true
    },
    "kernelspec": {
      "name": "python3",
      "display_name": "Python 3"
    }
  },
  "cells": [
    {
      "cell_type": "markdown",
      "metadata": {
        "id": "view-in-github",
        "colab_type": "text"
      },
      "source": [
        "[View in Colaboratory](https://colab.research.google.com/github/JaneyJiang/DeepLearningLesson/blob/master/deep_learningPractice.ipynb)"
      ]
    },
    {
      "metadata": {
        "id": "h80huZotTN5w",
        "colab_type": "code",
        "colab": {}
      },
      "cell_type": "code",
      "source": [
        "#my practices andrew NG.deeping learning \n",
        "import tensorflow as tf\n",
        "import numpy as np\n"
      ],
      "execution_count": 0,
      "outputs": []
    },
    {
      "metadata": {
        "id": "_lYl3cmETRNy",
        "colab_type": "code",
        "colab": {
          "base_uri": "https://localhost:8080/",
          "height": 35
        },
        "outputId": "a7fdcce1-375c-4f77-d0c1-779d5031597c"
      },
      "cell_type": "code",
      "source": [
        "coefficients = np.array([[1.],[-20.],[100.]])\n",
        "w = tf.Variable(0, dtype=tf.float32)\n",
        "x = tf.placeholder(tf.float32, [3,1])\n",
        "#cost = tf.add(tf.add(w**2, tf.multiply(-10.,w )),25)\n",
        "#cost = w**2-10*w + 25\n",
        "cost = x[0][0]*w**2 + x[1][0]*w + x[2][0]\n",
        "train = tf.train.GradientDescentOptimizer(0.01).minimize(cost)\n",
        "init = tf.global_variables_initializer()\n",
        "session = tf.Session()\n",
        "session.run(init)\n",
        "print(session.run(w))"
      ],
      "execution_count": 2,
      "outputs": [
        {
          "output_type": "stream",
          "text": [
            "0.0\n"
          ],
          "name": "stdout"
        }
      ]
    },
    {
      "metadata": {
        "id": "uIRWer2jTUs4",
        "colab_type": "code",
        "colab": {
          "base_uri": "https://localhost:8080/",
          "height": 35
        },
        "outputId": "7d97e0d5-d681-4947-88f4-d4bf3226c619"
      },
      "cell_type": "code",
      "source": [
        "for i in range(1000):\n",
        "  session.run(train, feed_dict ={x:coefficients})\n",
        "print(session.run(w))"
      ],
      "execution_count": 3,
      "outputs": [
        {
          "output_type": "stream",
          "text": [
            "9.999976\n"
          ],
          "name": "stdout"
        }
      ]
    },
    {
      "metadata": {
        "id": "KDNVK0YJTVgq",
        "colab_type": "code",
        "colab": {}
      },
      "cell_type": "code",
      "source": [
        ""
      ],
      "execution_count": 0,
      "outputs": []
    }
  ]
}